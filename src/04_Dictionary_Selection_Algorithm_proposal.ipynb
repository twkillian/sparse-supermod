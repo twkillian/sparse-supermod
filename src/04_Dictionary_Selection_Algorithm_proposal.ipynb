{
 "cells": [
  {
   "cell_type": "code",
   "execution_count": 35,
   "metadata": {
    "collapsed": false
   },
   "outputs": [],
   "source": [
    "import matplotlib.pyplot as plt\n",
    "import numpy as np\n",
    "import seaborn as sns\n",
    "sns.set_style('whitegrid')"
   ]
  },
  {
   "cell_type": "markdown",
   "metadata": {},
   "source": [
    "\n",
    "\\begin{alignat}{5}\n",
    "         & \\arg\\!\\min_{\\mathcal{D}, \\mathcal{R}} \\|X \\ -&\\mathcal{D}\\mathcal{R}\\|_F^2  + &\\lambda \\sum_{i=1}^k  \\|\\ r_i\\|_0     \\quad   \\\\\n",
    "         &\\text{s.t.}  \\quad  &\\|d_j\\|_2 \\leq 1&, \\forall j=1, ...,n  \\quad \n",
    "\\end{alignat}"
   ]
  },
  {
   "cell_type": "markdown",
   "metadata": {},
   "source": [
    "$$\\|X \\ -\\mathcal{D}\\mathcal{R}\\|_F^2 = \\|X - D_S D_S^+ X\\|_F^2$$"
   ]
  },
  {
   "cell_type": "code",
   "execution_count": 36,
   "metadata": {
    "collapsed": false
   },
   "outputs": [],
   "source": [
    "# random matrix (can be later an image for denoising!)\n",
    "d = 20\n",
    "K = 35\n",
    "n = 27\n",
    "\n",
    "X = np.random.uniform(low=-10, high=10, size=(d, K))\n",
    "D = np.random.uniform(low=-10, high=10, size=(d, n))\n",
    "\n",
    "# R will be n x K\n",
    "\n",
    "# normalize D s.t. that columns of D have l2 norm = 1\n",
    "for j in range(n):\n",
    "    D[:, j] /= np.sum(D[:, j])"
   ]
  },
  {
   "cell_type": "code",
   "execution_count": 37,
   "metadata": {
    "collapsed": false
   },
   "outputs": [
    {
     "data": {
      "text/plain": [
       "array([ 1.,  1.,  1.,  1.,  1.,  1.,  1.,  1.,  1.,  1.,  1.,  1.,  1.,\n",
       "        1.,  1.,  1.,  1.,  1.,  1.,  1.,  1.,  1.,  1.,  1.,  1.,  1.,  1.])"
      ]
     },
     "execution_count": 37,
     "metadata": {},
     "output_type": "execute_result"
    }
   ],
   "source": [
    "np.sum(D, axis=0)"
   ]
  },
  {
   "cell_type": "code",
   "execution_count": 38,
   "metadata": {
    "collapsed": false
   },
   "outputs": [
    {
     "data": {
      "text/plain": [
       "(20, 35)"
      ]
     },
     "execution_count": 38,
     "metadata": {},
     "output_type": "execute_result"
    }
   ],
   "source": [
    "X.shape"
   ]
  },
  {
   "cell_type": "code",
   "execution_count": 39,
   "metadata": {
    "collapsed": false
   },
   "outputs": [
    {
     "name": "stdout",
     "output_type": "stream",
     "text": [
      "[8]\n",
      "[8, 20]\n",
      "[8, 20, 11]\n",
      "[8, 20, 11, 7]\n",
      "[8, 20, 11, 7, 15]\n",
      "[8, 20, 11, 7, 15, 21]\n",
      "[8, 20, 11, 7, 15, 21, 6]\n",
      "[8, 20, 11, 7, 15, 21, 6, 2]\n",
      "[8, 20, 11, 7, 15, 21, 6, 2, 14]\n",
      "[8, 20, 11, 7, 15, 21, 6, 2, 14, 12]\n",
      "[8, 20, 11, 7, 15, 21, 6, 2, 14, 12, 24]\n",
      "[8, 20, 11, 7, 15, 21, 6, 2, 14, 12, 24, 1]\n",
      "[8, 20, 11, 7, 15, 21, 6, 2, 14, 12, 24, 1, 4]\n",
      "[8, 20, 11, 7, 15, 21, 6, 2, 14, 12, 24, 1, 4, 13]\n",
      "[8, 20, 11, 7, 15, 21, 6, 2, 14, 12, 24, 1, 4, 13, 18]\n",
      "[8, 20, 11, 7, 15, 21, 6, 2, 14, 12, 24, 1, 4, 13, 18, 0]\n",
      "[8, 20, 11, 7, 15, 21, 6, 2, 14, 12, 24, 1, 4, 13, 18, 0, 17]\n",
      "[8, 20, 11, 7, 15, 21, 6, 2, 14, 12, 24, 1, 4, 13, 18, 0, 17, 16]\n",
      "[8, 20, 11, 7, 15, 21, 6, 2, 14, 12, 24, 1, 4, 13, 18, 0, 17, 16, 10]\n",
      "[8, 20, 11, 7, 15, 21, 6, 2, 14, 12, 24, 1, 4, 13, 18, 0, 17, 16, 10, 3]\n",
      "[8, 20, 11, 7, 15, 21, 6, 2, 14, 12, 24, 1, 4, 13, 18, 0, 17, 16, 10, 3, 5]\n",
      "[8, 20, 11, 7, 15, 21, 6, 2, 14, 12, 24, 1, 4, 13, 18, 0, 17, 16, 10, 3, 5, 22]\n",
      "[8, 20, 11, 7, 15, 21, 6, 2, 14, 12, 24, 1, 4, 13, 18, 0, 17, 16, 10, 3, 5, 22, 23]\n",
      "[8, 20, 11, 7, 15, 21, 6, 2, 14, 12, 24, 1, 4, 13, 18, 0, 17, 16, 10, 3, 5, 22, 23, 9]\n",
      "[8, 20, 11, 7, 15, 21, 6, 2, 14, 12, 24, 1, 4, 13, 18, 0, 17, 16, 10, 3, 5, 22, 23, 9, 25]\n"
     ]
    }
   ],
   "source": [
    "# greedy algorithm\n",
    "num_steps = 25\n",
    "S = np.zeros(num_steps, dtype=int)\n",
    "val_trace = []\n",
    "for step in range(num_steps):\n",
    "    \n",
    "    cur_sel_columns = list(S[:step])\n",
    "    # find argmin\n",
    "    norms = np.zeros(D.shape[1]) + 9999.9\n",
    "    for i in range(D.shape[1]):\n",
    "        if i in cur_sel_columns:\n",
    "            continue\n",
    "        DS = D[:, cur_sel_columns+[i]]\n",
    "        \n",
    "        norms[i] = np.linalg.norm(X - np.dot(DS, np.dot(np.linalg.pinv(DS), X)), 'fro')\n",
    "    S[step] = np.argmin(norms)\n",
    "    \n",
    "    # add current norm value for the current dict\n",
    "    cur_sel_columns = list(S[:step+1])\n",
    "    DS = D[:, cur_sel_columns]\n",
    "    obj_val = np.linalg.norm(X - np.dot(DS, np.dot(np.linalg.pinv(DS), X)), 'fro')\n",
    "    val_trace.append(obj_val)\n",
    "    print(cur_sel_columns)"
   ]
  },
  {
   "cell_type": "code",
   "execution_count": 40,
   "metadata": {
    "collapsed": false
   },
   "outputs": [
    {
     "data": {
      "text/plain": [
       "[<matplotlib.lines.Line2D at 0x116c201d0>]"
      ]
     },
     "execution_count": 40,
     "metadata": {},
     "output_type": "execute_result"
    },
    {
     "data": {
      "image/png": "[encoded data removed]",
      "text/plain": [
       "<matplotlib.figure.Figure at 0x11607df10>"
      ]
     },
     "metadata": {},
     "output_type": "display_data"
    }
   ],
   "source": [
    "%matplotlib inline\n",
    "plt.plot(val_trace)"
   ]
  },
  {
   "cell_type": "code",
   "execution_count": 41,
   "metadata": {
    "collapsed": false
   },
   "outputs": [
    {
     "data": {
      "text/plain": [
       "(20, 27)"
      ]
     },
     "execution_count": 41,
     "metadata": {},
     "output_type": "execute_result"
    }
   ],
   "source": [
    "D.shape"
   ]
  },
  {
   "cell_type": "code",
   "execution_count": 42,
   "metadata": {
    "collapsed": false
   },
   "outputs": [],
   "source": [
    "def alpha_weakly_greedy(X, D, t):\n",
    "    S = np.zeros(num_steps, dtype=int)\n",
    "    val_trace = []\n",
    "    for step in range(t):\n",
    "\n",
    "        cur_sel_columns = list(S[:step])\n",
    "        # find argmin\n",
    "        norms = np.zeros(D.shape[1]) + 9999.9\n",
    "        for i in range(D.shape[1]):\n",
    "            if i in cur_sel_columns:\n",
    "                continue\n",
    "            DS = D[:, cur_sel_columns+[i]]\n",
    "\n",
    "            norms[i] = np.linalg.norm(X - np.dot(DS, np.dot(np.linalg.pinv(DS), X)), 'fro')\n",
    "        S[step] = np.argmin(norms)\n",
    "\n",
    "        # add current norm value for the current dict\n",
    "        cur_sel_columns = list(S[:step+1])\n",
    "        DS = D[:, cur_sel_columns]\n",
    "        obj_val = np.linalg.norm(X - np.dot(DS, np.dot(np.linalg.pinv(DS), X)), 'fro')\n",
    "        val_trace.append(obj_val)\n",
    "    return S[:t], val_trace[-1]"
   ]
  },
  {
   "cell_type": "code",
   "execution_count": 43,
   "metadata": {
    "collapsed": true
   },
   "outputs": [],
   "source": [
    "t = 4\n",
    "num_steps=200"
   ]
  },
  {
   "cell_type": "code",
   "execution_count": 44,
   "metadata": {
    "collapsed": false
   },
   "outputs": [],
   "source": [
    "val_trace = []\n",
    "def get_new_X(S):\n",
    "    cand_cols = list(set(np.arange(0, K)) - set(S))\n",
    "    q = cand_cols[np.random.randint(len(cand_cols))]\n",
    "    S[np.random.randint(len(S))] = q\n",
    "    return X[:, S]\n",
    "\n",
    "# greedy algorithm to perform dictionary selection!\n",
    "D0 = np.random.uniform(low=-1, high=1, size=(d, n))\n",
    "# normalize over columns\n",
    "for j in range(n):\n",
    "    D0[:, j] /= np.sum(D0[:, j])\n",
    "    \n",
    "# this should return all 1's\n",
    "eps=10**-10\n",
    "assert(np.all(np.abs(np.sum(D0, axis=0) - 1.) < eps))\n",
    "\n",
    "\n",
    "# first value is just the dict and the inferred repr from it!\n",
    "R = np.dot(np.linalg.pinv(D0), X)\n",
    "\n",
    "obj_Value_old = np.linalg.norm(X - np.dot(D0, R), 'fro')\n",
    "val_trace.append(obj_value_old)\n",
    "\n",
    "# solve alpha weakly for this random starting dict\n",
    "S0, obj_value_old = alpha_weakly_greedy(X, D0, t)\n",
    "val_trace.append(obj_value_old)\n",
    "\n",
    "S = S0.copy()\n",
    "\n",
    "for i in range(num_steps):\n",
    "    # loop for new dictionaries\n",
    "    # get new candidate dictionary!\n",
    "    Xnew = get_new_X(S)\n",
    "\n",
    "    # new dict\n",
    "    D = Xnew.copy()\n",
    "    \n",
    "    # normalize!\n",
    "    for j in range(D.shape[1]):\n",
    "        D[:, j] /= np.sum(D[:, j])\n",
    "\n",
    "    # this should return all 1's\n",
    "    eps=10**-10\n",
    "    assert(np.all(np.abs(np.sum(D, axis=0) - 1.) < eps))\n",
    "    \n",
    "    \n",
    "    # solve alpha greedy!\n",
    "    S, obj_value_new = alpha_weakly_greedy(X, D, t)\n",
    "    \n",
    "    # if new is better, take it!\n",
    "    if(obj_value_new < obj_value_old):\n",
    "        S0 = S.copy()\n",
    "        D0 = D.copy()\n",
    "        obj_value_old = obj_value_new\n",
    "    val_trace.append(obj_value_old)\n",
    "\n",
    "# final set\n",
    "#S0, D0, obj_value_old"
   ]
  },
  {
   "cell_type": "code",
   "execution_count": 45,
   "metadata": {
    "collapsed": false
   },
   "outputs": [
    {
     "data": {
      "text/plain": [
       "array([1, 3, 2, 0])"
      ]
     },
     "execution_count": 45,
     "metadata": {},
     "output_type": "execute_result"
    }
   ],
   "source": [
    "S"
   ]
  },
  {
   "cell_type": "code",
   "execution_count": 46,
   "metadata": {
    "collapsed": false
   },
   "outputs": [
    {
     "data": {
      "text/plain": [
       "<matplotlib.legend.Legend at 0x116e123d0>"
      ]
     },
     "execution_count": 46,
     "metadata": {},
     "output_type": "execute_result"
    },
    {
     "data": {
      "image/png": "[encoded data removed]",
      "text/plain": [
       "<matplotlib.figure.Figure at 0x11699cf50>"
      ]
     },
     "metadata": {},
     "output_type": "display_data"
    }
   ],
   "source": [
    "plt.plot(val_trace[1:], label='our algorithm')\n",
    "plt.plot([0, num_steps],[val_trace[0], val_trace[0]], label='norm with $ R = D_0^+X$')\n",
    "plt.legend()"
   ]
  },
  {
   "cell_type": "code",
   "execution_count": 47,
   "metadata": {
    "collapsed": false
   },
   "outputs": [],
   "source": [
    "# new with add. greedy search!\n",
    "\n",
    "val_trace = []\n",
    "def get_new_X(S, X, Dcur, Rcur):\n",
    "    cand_cols = list(set(np.arange(0, K)) - set(S))\n",
    "    \n",
    "    # get the one\n",
    "    \n",
    "    q = cand_cols[np.random.randint(len(cand_cols))]\n",
    "    \n",
    "    rand_index = np.random.randint(len(S))\n",
    "    \n",
    "    # proposal 1\n",
    "    #S[rand_index] = q\n",
    "    \n",
    "    # proposal 2 (find the best column to set which minimized ||Xnew - Dcur Rcur||_F^2)\n",
    "    qbest = cand_cols[0]\n",
    "    norm_old = 9999999.9 #+inf\n",
    "    for q in cand_cols:\n",
    "        S_proposed = S.copy()\n",
    "        S_proposed[rand_index] = q\n",
    "        X_proposed = np.zeros(X.shape)\n",
    "        X_proposed[:, S_proposed] = X[:, S_proposed]\n",
    "        norm_val = np.linalg.norm(X_proposed - np.dot(Dcur, Rcur), 'fro')\n",
    "        if norm_val < norm_old:\n",
    "            qbest = q\n",
    "            norm_old = norm_val\n",
    "            \n",
    "    S[rand_index] = qbest\n",
    "    X_new = np.zeros(X.shape)\n",
    "    X_new[:, S] = X[:, S]\n",
    "    return X_new\n",
    "\n",
    "# greedy algorithm to perform dictionary selection!\n",
    "D0 = np.random.uniform(low=-1, high=1, size=(d, n))\n",
    "# normalize over columns\n",
    "for j in range(n):\n",
    "    D0[:, j] /= np.sum(D0[:, j])\n",
    "    \n",
    "# this should return all 1's\n",
    "eps=10**-10\n",
    "assert(np.all(np.abs(np.sum(D0, axis=0) - 1.) < eps))\n",
    "\n",
    "\n",
    "# first value is just the dict and the inferred repr from it!\n",
    "R = np.dot(np.linalg.pinv(D0), X)\n",
    "\n",
    "obj_Value_old = np.linalg.norm(X - np.dot(D0, R), 'fro')\n",
    "val_trace.append(obj_value_old)\n",
    "\n",
    "# solve alpha weakly for this random starting dict\n",
    "S0, obj_value_old = alpha_weakly_greedy(X, D0, t)\n",
    "val_trace.append(obj_value_old)\n",
    "\n",
    "S = S0.copy()\n",
    "\n",
    "for i in range(num_steps):\n",
    "    # loop for new dictionaries\n",
    "    # get new candidate dictionary!\n",
    "    D0plus = np.linalg.pinv(D0)\n",
    "    # set here maybe all other rows to zeros...\n",
    "    R0 = np.dot(D0plus, X)\n",
    "    Xnew = get_new_X(S, X, D0, R0)\n",
    "\n",
    "    # new dict (proposal 1)\n",
    "    D = Xnew.copy()\n",
    "    # new dict (proposal 2)\n",
    "    D = np.dot(Xnew, np.linalg.pinv(R0))\n",
    "    \n",
    "    # normalize!\n",
    "    for j in range(D.shape[1]):\n",
    "        D[:, j] /= np.sum(D[:, j])\n",
    "\n",
    "    # this should return all 1's\n",
    "    eps=10**-10\n",
    "    assert(np.all(np.abs(np.sum(D, axis=0) - 1.) < eps))\n",
    "    \n",
    "    \n",
    "    # solve alpha greedy!\n",
    "    S, obj_value_new = alpha_weakly_greedy(X, D, t)\n",
    "    \n",
    "    # if new is better, take it!\n",
    "    if(obj_value_new < obj_value_old):\n",
    "        S0 = S.copy()\n",
    "        D0 = D.copy()\n",
    "        obj_value_old = obj_value_new\n",
    "    val_trace.append(obj_value_old)\n",
    "\n",
    "# final set\n",
    "#S0, D0, obj_value_old"
   ]
  },
  {
   "cell_type": "code",
   "execution_count": 54,
   "metadata": {
    "collapsed": false
   },
   "outputs": [
    {
     "data": {
      "image/png": "[encoded data removed]",
      "text/plain": [
       "<matplotlib.figure.Figure at 0x116a74050>"
      ]
     },
     "metadata": {},
     "output_type": "display_data"
    }
   ],
   "source": [
    "plt.plot(val_trace[1:],lw=3, label='our algorithm')\n",
    "plt.plot([0, num_steps],[val_trace[0], val_trace[0]],lw=3, label='norm with $ R = D_0^+X$')\n",
    "plt.title('Performance of Algorithm Against Notional Naive Bound',fontsize=14)\n",
    "plt.ylabel('Frobenius Norm $\\|X \\ -\\mathcal{D}\\mathcal{R}\\|_F^2$',fontsize=12)\n",
    "plt.xlabel('Number of Steps',fontsize=12)\n",
    "plt.xlim(0, len(val_trace)-1)\n",
    "# plt.ylim(0,200)\n",
    "plt.legend(loc='best')\n",
    "# plt.subplots_adjust(top=1)\n",
    "plt.savefig('our_alg.png', dpi=120)\n"
   ]
  },
  {
   "cell_type": "code",
   "execution_count": 49,
   "metadata": {
    "collapsed": false
   },
   "outputs": [
    {
     "data": {
      "text/plain": [
       "(27, 35)"
      ]
     },
     "execution_count": 49,
     "metadata": {},
     "output_type": "execute_result"
    }
   ],
   "source": [
    "R0.shape"
   ]
  },
  {
   "cell_type": "code",
   "execution_count": 50,
   "metadata": {
    "collapsed": false
   },
   "outputs": [
    {
     "data": {
      "text/plain": [
       "(20, 27)"
      ]
     },
     "execution_count": 50,
     "metadata": {},
     "output_type": "execute_result"
    }
   ],
   "source": [
    "D.shape"
   ]
  },
  {
   "cell_type": "code",
   "execution_count": 51,
   "metadata": {
    "collapsed": false
   },
   "outputs": [
    {
     "data": {
      "text/plain": [
       "(20, 35)"
      ]
     },
     "execution_count": 51,
     "metadata": {},
     "output_type": "execute_result"
    }
   ],
   "source": [
    "X.shape"
   ]
  },
  {
   "cell_type": "code",
   "execution_count": 52,
   "metadata": {
    "collapsed": false
   },
   "outputs": [
    {
     "data": {
      "text/plain": [
       "(20, 27)"
      ]
     },
     "execution_count": 52,
     "metadata": {},
     "output_type": "execute_result"
    }
   ],
   "source": [
    "D0.shape"
   ]
  },
  {
   "cell_type": "code",
   "execution_count": 53,
   "metadata": {
    "collapsed": false
   },
   "outputs": [
    {
     "data": {
      "text/plain": [
       "(27, 20)"
      ]
     },
     "execution_count": 53,
     "metadata": {},
     "output_type": "execute_result"
    }
   ],
   "source": [
    "D0plus.shape"
   ]
  },
  {
   "cell_type": "code",
   "execution_count": null,
   "metadata": {
    "collapsed": true
   },
   "outputs": [],
   "source": []
  }
 ],
 "metadata": {
  "kernelspec": {
   "display_name": "Python 2",
   "language": "python",
   "name": "python2"
  },
  "language_info": {
   "codemirror_mode": {
    "name": "ipython",
    "version": 2
   },
   "file_extension": ".py",
   "mimetype": "text/x-python",
   "name": "python",
   "nbconvert_exporter": "python",
   "pygments_lexer": "ipython2",
   "version": "2.7.11"
  }
 },
 "nbformat": 4,
 "nbformat_minor": 0
}
