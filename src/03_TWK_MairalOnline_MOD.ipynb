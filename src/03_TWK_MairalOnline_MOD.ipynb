{
 "cells": [
  {
   "cell_type": "code",
   "execution_count": 6,
   "metadata": {
    "collapsed": false
   },
   "outputs": [],
   "source": [
    "%matplotlib inline\n",
    "\n",
    "import matplotlib.pyplot as plt\n",
    "import numpy as np\n",
    "import seaborn as sns\n",
    "from sklearn.linear_model import Lars\n",
    "\n",
    "sns.set_style('whitegrid')"
   ]
  },
  {
   "cell_type": "markdown",
   "metadata": {},
   "source": [
    "\n",
    "\\begin{alignat}{5}\n",
    "         & \\arg\\!\\min_{\\mathcal{D}, \\mathcal{R}} \\|X \\ -&\\mathcal{D}\\mathcal{R}\\|_F^2  + &\\lambda \\sum_{i=1}^k  \\|\\ r_i\\|_0     \\quad   \\\\\n",
    "         &\\text{s.t.}  \\quad  &\\|d_j\\|_2 \\leq 1&, \\forall j=1, ...,n  \\quad \n",
    "\\end{alignat}"
   ]
  },
  {
   "cell_type": "markdown",
   "metadata": {},
   "source": [
    "$$\\|X \\ -\\mathcal{D}\\mathcal{R}\\|_F^2 = \\|X - D_S D_S^+ X\\|_F^2$$"
   ]
  },
  {
   "cell_type": "code",
   "execution_count": 7,
   "metadata": {
    "collapsed": false
   },
   "outputs": [],
   "source": [
    "# random matrix (can be later an image for denoising!)\n",
    "d = 20\n",
    "K = 35\n",
    "n = 27\n",
    "\n",
    "X = np.random.uniform(low=-10, high=10, size=(d, K))\n",
    "D = np.random.uniform(low=-10, high=10, size=(d, n))\n",
    "\n",
    "# R will be n x K\n",
    "\n",
    "# normalize D s.t. that columns of D have l2 norm = 1\n",
    "for j in range(n):\n",
    "    D[:, j] /= np.sum(D[:, j])"
   ]
  },
  {
   "cell_type": "code",
   "execution_count": 8,
   "metadata": {
    "collapsed": false
   },
   "outputs": [],
   "source": [
    "# Online Dictionary Learning from Mairal et al. (2009)\n",
    "\n",
    "# Iteratively update Dictionary and sparse representation in two separate stages\n",
    "num_steps = 25\n",
    "max_iters = 2\n",
    "online_trace = []\n",
    "cur_dict = np.copy(D)\n",
    "\n",
    "A = np.zeros((D.shape[1],D.shape[1]))\n",
    "B = np.zeros_like(D)\n",
    "\n",
    "for step in range(num_steps):\n",
    "\n",
    "    \n",
    "    # Run LARS to get sparse representation with current dictionary\n",
    "    clf = Lars(n_nonzero_coefs=4) # Enforcing some sparsity...\n",
    "    clf.fit(cur_dict,X)\n",
    "    cur_R = clf.coef_ # The rows of this coefficient matrix are the alphas from Alg 1, they're associated with the columns of X\n",
    "    \n",
    "    # Update temporary \"past\" information matrices A and B\n",
    "    for ii in range(cur_R.shape[0]):\n",
    "        temp_alph = cur_R[ii,:].reshape(1,-1)\n",
    "        temp_x    = X[:,ii].reshape(-1,1)\n",
    "        A += temp_alph*temp_alph.T\n",
    "        B += temp_x * temp_alph\n",
    "\n",
    "    find_dict = True\n",
    "    counter = 0\n",
    "    \n",
    "    # Compute the next dictionary according the ALG 2\n",
    "    while find_dict & (counter < max_iters):\n",
    "        counter += 1\n",
    "        new_dict = np.zeros_like(cur_dict)\n",
    "        for j in range(cur_dict.shape[1]):\n",
    "            \n",
    "            temp_uj = (np.add(np.subtract(B[:,j],cur_dict.dot(A[:,j])),cur_dict[:,j]))/(A[j,j]*1.0)\n",
    "            new_dict[:,j] = temp_uj/(max(np.linalg.norm(temp_uj),1.0))\n",
    "        \n",
    "        if np.linalg.norm(np.subtract(cur_dict,new_dict)) < 1e-8:\n",
    "            find_dict = False\n",
    "        \n",
    "        cur_dict = np.copy(new_dict)\n",
    "    \n",
    "    # Normalize the dictionary\n",
    "    for k in range(cur_dict.shape[1]):\n",
    "        cur_dict[:, k] /= np.sum(cur_dict[:, k])\n",
    "    \n",
    "    # Calculate the fit of our sparse representation and dictionary to the data\n",
    "    obj_val = np.linalg.norm(X-np.dot(cur_dict,cur_R.T))\n",
    "    online_trace.append(obj_val)"
   ]
  },
  {
   "cell_type": "code",
   "execution_count": 9,
   "metadata": {
    "collapsed": false
   },
   "outputs": [
    {
     "name": "stdout",
     "output_type": "stream",
     "text": [
      "[3]\n",
      "[3, 24]\n",
      "[3, 24, 26]\n",
      "[3, 24, 26, 10]\n",
      "[3, 24, 26, 10, 13]\n",
      "[3, 24, 26, 10, 13, 11]\n",
      "[3, 24, 26, 10, 13, 11, 0]\n",
      "[3, 24, 26, 10, 13, 11, 0, 21]\n",
      "[3, 24, 26, 10, 13, 11, 0, 21, 12]\n",
      "[3, 24, 26, 10, 13, 11, 0, 21, 12, 9]\n",
      "[3, 24, 26, 10, 13, 11, 0, 21, 12, 9, 17]\n",
      "[3, 24, 26, 10, 13, 11, 0, 21, 12, 9, 17, 14]\n",
      "[3, 24, 26, 10, 13, 11, 0, 21, 12, 9, 17, 14, 6]\n",
      "[3, 24, 26, 10, 13, 11, 0, 21, 12, 9, 17, 14, 6, 20]\n",
      "[3, 24, 26, 10, 13, 11, 0, 21, 12, 9, 17, 14, 6, 20, 22]\n",
      "[3, 24, 26, 10, 13, 11, 0, 21, 12, 9, 17, 14, 6, 20, 22, 2]\n",
      "[3, 24, 26, 10, 13, 11, 0, 21, 12, 9, 17, 14, 6, 20, 22, 2, 5]\n",
      "[3, 24, 26, 10, 13, 11, 0, 21, 12, 9, 17, 14, 6, 20, 22, 2, 5, 23]\n",
      "[3, 24, 26, 10, 13, 11, 0, 21, 12, 9, 17, 14, 6, 20, 22, 2, 5, 23, 15]\n",
      "[3, 24, 26, 10, 13, 11, 0, 21, 12, 9, 17, 14, 6, 20, 22, 2, 5, 23, 15, 19]\n",
      "[3, 24, 26, 10, 13, 11, 0, 21, 12, 9, 17, 14, 6, 20, 22, 2, 5, 23, 15, 19, 25]\n",
      "[3, 24, 26, 10, 13, 11, 0, 21, 12, 9, 17, 14, 6, 20, 22, 2, 5, 23, 15, 19, 25, 7]\n",
      "[3, 24, 26, 10, 13, 11, 0, 21, 12, 9, 17, 14, 6, 20, 22, 2, 5, 23, 15, 19, 25, 7, 8]\n",
      "[3, 24, 26, 10, 13, 11, 0, 21, 12, 9, 17, 14, 6, 20, 22, 2, 5, 23, 15, 19, 25, 7, 8, 18]\n",
      "[3, 24, 26, 10, 13, 11, 0, 21, 12, 9, 17, 14, 6, 20, 22, 2, 5, 23, 15, 19, 25, 7, 8, 18, 4]\n"
     ]
    }
   ],
   "source": [
    "# greedy algorithm\n",
    "num_steps = 25\n",
    "S = np.zeros(num_steps, dtype=int)\n",
    "val_trace = []\n",
    "for step in range(num_steps):\n",
    "    \n",
    "    cur_sel_columns = list(S[:step])\n",
    "    # find argmin\n",
    "    norms = np.zeros(D.shape[1]) + 9999.9\n",
    "    for i in range(D.shape[1]):\n",
    "        if i in cur_sel_columns:\n",
    "            continue\n",
    "        DS = D[:, cur_sel_columns+[i]]\n",
    "        \n",
    "        norms[i] = np.linalg.norm(X - np.dot(DS, np.dot(np.linalg.pinv(DS), X)), 'fro')\n",
    "    S[step] = np.argmin(norms)\n",
    "    \n",
    "    # add current norm value for the current dict\n",
    "    cur_sel_columns = list(S[:step+1])\n",
    "    DS = D[:, cur_sel_columns]\n",
    "    obj_val = np.linalg.norm(X - np.dot(DS, np.dot(np.linalg.pinv(DS), X)), 'fro')\n",
    "    val_trace.append(obj_val)\n",
    "    print(cur_sel_columns)"
   ]
  },
  {
   "cell_type": "code",
   "execution_count": 10,
   "metadata": {
    "collapsed": false
   },
   "outputs": [
    {
     "data": {
      "image/png": "[encoded data removed]",
      "text/plain": [
       "<matplotlib.figure.Figure at 0x115a30a50>"
      ]
     },
     "metadata": {},
     "output_type": "display_data"
    },
    {
     "data": {
      "text/plain": [
       "<matplotlib.figure.Figure at 0x115ca68d0>"
      ]
     },
     "metadata": {},
     "output_type": "display_data"
    }
   ],
   "source": [
    "plt.figure()\n",
    "plt.plot(val_trace,label='Greedy Algorithm')\n",
    "plt.plot(online_trace,label='Mairal Online DL')\n",
    "plt.title('Sparse Multiple Linear Regression \\nw. $X \\in \\mathbb{R}^{20 \\\\times 35},\\\\; \\mathcal{D} \\in \\mathbb{R}^{20 \\\\times 27}$')\n",
    "plt.ylabel('Frobenius norm $\\|X \\ -\\mathcal{D}\\mathcal{R}\\|_F^2$')\n",
    "plt.xlabel('number of steps')\n",
    "plt.xlim(0, len(val_trace)-1)\n",
    "plt.ylim(0,200)\n",
    "plt.legend(loc='best')\n",
    "plt.subplots_adjust(top=1)\n",
    "\n",
    "plt.show()\n",
    "plt.savefig('sparse_MLR_greedy_online.png', dpi=120)"
   ]
  },
  {
   "cell_type": "code",
   "execution_count": null,
   "metadata": {
    "collapsed": true
   },
   "outputs": [],
   "source": []
  },
  {
   "cell_type": "code",
   "execution_count": null,
   "metadata": {
    "collapsed": true
   },
   "outputs": [],
   "source": []
  }
 ],
 "metadata": {
  "kernelspec": {
   "display_name": "Python 2",
   "language": "python",
   "name": "python2"
  },
  "language_info": {
   "codemirror_mode": {
    "name": "ipython",
    "version": 2
   },
   "file_extension": ".py",
   "mimetype": "text/x-python",
   "name": "python",
   "nbconvert_exporter": "python",
   "pygments_lexer": "ipython2",
   "version": "2.7.11"
  }
 },
 "nbformat": 4,
 "nbformat_minor": 0
}
