{
 "cells": [
  {
   "cell_type": "code",
   "execution_count": 61,
   "metadata": {
    "collapsed": false
   },
   "outputs": [],
   "source": [
    "import matplotlib.pyplot as plt\n",
    "import numpy as np\n",
    "import seaborn as sns\n",
    "sns.set_style('whitegrid')"
   ]
  },
  {
   "cell_type": "markdown",
   "metadata": {},
   "source": [
    "\n",
    "\\begin{alignat}{5}\n",
    "         & \\arg\\!\\min_{\\mathcal{D}, \\mathcal{R}} \\|X \\ -&\\mathcal{D}\\mathcal{R}\\|_F^2  + &\\lambda \\sum_{i=1}^k  \\|\\ r_i\\|_0     \\quad   \\\\\n",
    "         &\\text{s.t.}  \\quad  &\\|d_j\\|_2 \\leq 1&, \\forall j=1, ...,n  \\quad \n",
    "\\end{alignat}"
   ]
  },
  {
   "cell_type": "markdown",
   "metadata": {},
   "source": [
    "$$\\|X \\ -\\mathcal{D}\\mathcal{R}\\|_F^2 = \\|X - D_S D_S^+ X\\|_F^2$$"
   ]
  },
  {
   "cell_type": "code",
   "execution_count": 62,
   "metadata": {
    "collapsed": false
   },
   "outputs": [],
   "source": [
    "# random matrix (can be later an image for denoising!)\n",
    "d = 10\n",
    "K = 10\n",
    "n = 10\n",
    "\n",
    "X = np.random.random(size=(d, K))\n",
    "D = np.random.random(size=(d, n))\n",
    "\n",
    "# R will be n x K\n",
    "\n",
    "# normalize D s.t. that columns of D have l2 norm = 1\n",
    "for j in range(n):\n",
    "    D[:, j] /= np.sum(D[:, j])"
   ]
  },
  {
   "cell_type": "code",
   "execution_count": 63,
   "metadata": {
    "collapsed": false
   },
   "outputs": [
    {
     "data": {
      "text/plain": [
       "array([ 3.84205195,  4.42385221,  4.5076539 ,  3.463943  ,  4.35237814,\n",
       "        5.50814476,  4.44822841,  6.26108073,  5.19541453,  4.78713151])"
      ]
     },
     "execution_count": 63,
     "metadata": {},
     "output_type": "execute_result"
    }
   ],
   "source": [
    "np.sum(X, axis=0)"
   ]
  },
  {
   "cell_type": "code",
   "execution_count": 64,
   "metadata": {
    "collapsed": false
   },
   "outputs": [
    {
     "data": {
      "text/plain": [
       "(10, 10)"
      ]
     },
     "execution_count": 64,
     "metadata": {},
     "output_type": "execute_result"
    }
   ],
   "source": [
    "X.shape"
   ]
  },
  {
   "cell_type": "code",
   "execution_count": 65,
   "metadata": {
    "collapsed": false
   },
   "outputs": [
    {
     "name": "stdout",
     "output_type": "stream",
     "text": [
      "[8]\n",
      "[8, 7]\n",
      "[8, 7, 6]\n",
      "[8, 7, 6, 2]\n",
      "[8, 7, 6, 2, 3]\n",
      "[8, 7, 6, 2, 3, 1]\n"
     ]
    }
   ],
   "source": [
    "# greedy algorithm\n",
    "num_steps = 6\n",
    "S = np.zeros(num_steps, dtype=int)\n",
    "val_trace = []\n",
    "for step in range(num_steps):\n",
    "    \n",
    "    cur_sel_columns = list(S[:step])\n",
    "    # find argmin\n",
    "    norms = np.zeros(D.shape[1]) + 9999.9\n",
    "    for i in range(D.shape[1]):\n",
    "        if i in cur_sel_columns:\n",
    "            continue\n",
    "        DS = D[:, cur_sel_columns+[i]]\n",
    "        \n",
    "        norms[i] = np.linalg.norm(X - np.dot(DS, np.dot(np.linalg.pinv(DS), X)), 'fro')\n",
    "    S[step] = np.argmin(norms)\n",
    "    \n",
    "    # add current norm value for the current dict\n",
    "    cur_sel_columns = list(S[:step+1])\n",
    "    DS = D[:, cur_sel_columns]\n",
    "    obj_val = np.linalg.norm(X - np.dot(DS, np.dot(np.linalg.pinv(DS), X)), 'fro')\n",
    "    val_trace.append(obj_val)\n",
    "    print(cur_sel_columns)"
   ]
  },
  {
   "cell_type": "code",
   "execution_count": 66,
   "metadata": {
    "collapsed": false
   },
   "outputs": [
    {
     "data": {
      "text/plain": [
       "[<matplotlib.lines.Line2D at 0x1127a7898>]"
      ]
     },
     "execution_count": 66,
     "metadata": {},
     "output_type": "execute_result"
    },
    {
     "data": {
      "image/png": "[encoded data removed]",
      "text/plain": [
       "<matplotlib.figure.Figure at 0x112758fd0>"
      ]
     },
     "metadata": {},
     "output_type": "display_data"
    }
   ],
   "source": [
    "%matplotlib inline\n",
    "plt.plot(val_trace)"
   ]
  },
  {
   "cell_type": "code",
   "execution_count": 67,
   "metadata": {
    "collapsed": false
   },
   "outputs": [],
   "source": [
    "from sklearn.linear_model import MultiTaskLasso"
   ]
  },
  {
   "cell_type": "code",
   "execution_count": 72,
   "metadata": {
    "collapsed": false
   },
   "outputs": [
    {
     "name": "stderr",
     "output_type": "stream",
     "text": [
      "/usr/local/lib/python3.5/site-packages/sklearn/linear_model/coordinate_descent.py:1687: UserWarning: Objective did not converge, you might want to increase the number of iterations\n",
      "  warnings.warn('Objective did not converge, you might want'\n"
     ]
    }
   ],
   "source": [
    "lasso_val_trace = []\n",
    "for i in range(num_steps):\n",
    "    lasso_R = MultiTaskLasso(alpha=.0001, max_iter=i).fit(D, X).coef_\n",
    "    obj_val = np.linalg.norm(X - np.dot(D, lasso_R), 'fro')\n",
    "    lasso_val_trace.append(obj_val)"
   ]
  },
  {
   "cell_type": "code",
   "execution_count": 73,
   "metadata": {
    "collapsed": false
   },
   "outputs": [
    {
     "data": {
      "text/plain": [
       "<matplotlib.legend.Legend at 0x11292c6a0>"
      ]
     },
     "execution_count": 73,
     "metadata": {},
     "output_type": "execute_result"
    },
    {
     "data": {
      "image/png": "[encoded data removed]",
      "text/plain": [
       "<matplotlib.figure.Figure at 0x112a22c18>"
      ]
     },
     "metadata": {},
     "output_type": "display_data"
    }
   ],
   "source": [
    "%matplotlib inline\n",
    "plt.plot(val_trace, label='greedy')\n",
    "plt.plot(lasso_val_trace, label='LASSO')\n",
    "plt.title('Frobenius norm $\\|X \\ -\\mathcal{D}\\mathcal{R}\\|_F^2$')\n",
    "plt.xlabel('number of steps')\n",
    "plt.legend(loc='best')"
   ]
  },
  {
   "cell_type": "code",
   "execution_count": null,
   "metadata": {
    "collapsed": true
   },
   "outputs": [],
   "source": []
  }
 ],
 "metadata": {
  "kernelspec": {
   "display_name": "Python 3",
   "language": "python",
   "name": "python3"
  },
  "language_info": {
   "codemirror_mode": {
    "name": "ipython",
    "version": 3
   },
   "file_extension": ".py",
   "mimetype": "text/x-python",
   "name": "python",
   "nbconvert_exporter": "python",
   "pygments_lexer": "ipython3",
   "version": "3.5.1"
  }
 },
 "nbformat": 4,
 "nbformat_minor": 0
}
